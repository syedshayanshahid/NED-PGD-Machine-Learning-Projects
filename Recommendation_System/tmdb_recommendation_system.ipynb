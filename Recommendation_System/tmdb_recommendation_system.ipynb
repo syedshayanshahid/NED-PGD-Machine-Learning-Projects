{
  "cells": [
    {
      "cell_type": "code",
      "execution_count": 1,
      "metadata": {
        "id": "VlZhkd6O3eer"
      },
      "outputs": [],
      "source": [
        "import pandas as pd\n",
        "import numpy as np\n",
        "import matplotlib.pyplot as plt\n",
        "import seaborn as sns\n",
        "import warnings\n",
        "warnings.filterwarnings('ignore')\n",
        "from zipfile import ZipFile\n",
        "import ast"
      ]
    },
    {
      "cell_type": "code",
      "execution_count": 2,
      "metadata": {
        "colab": {
          "base_uri": "https://localhost:8080/"
        },
        "id": "Vqd9en-qjBY8",
        "outputId": "d9aa07d1-09a6-4abc-92ba-75e73c2ec181"
      },
      "outputs": [
        {
          "name": "stdout",
          "output_type": "stream",
          "text": [
            "Done!\n"
          ]
        }
      ],
      "source": [
        "file_name = 'TMDB_tv_dataset_v3.zip'\n",
        "with ZipFile(file_name, 'r') as zip:\n",
        "  zip.extractall()\n",
        "  print('Done!')"
      ]
    },
    {
      "cell_type": "code",
      "execution_count": 3,
      "metadata": {
        "colab": {
          "base_uri": "https://localhost:8080/",
          "height": 741
        },
        "id": "Mad84KgIjd-M",
        "outputId": "e0f06e2c-49a0-4b4d-b0fd-3e36881ed398"
      },
      "outputs": [
        {
          "data": {
            "text/html": [
              "<div>\n",
              "<style scoped>\n",
              "    .dataframe tbody tr th:only-of-type {\n",
              "        vertical-align: middle;\n",
              "    }\n",
              "\n",
              "    .dataframe tbody tr th {\n",
              "        vertical-align: top;\n",
              "    }\n",
              "\n",
              "    .dataframe thead th {\n",
              "        text-align: right;\n",
              "    }\n",
              "</style>\n",
              "<table border=\"1\" class=\"dataframe\">\n",
              "  <thead>\n",
              "    <tr style=\"text-align: right;\">\n",
              "      <th></th>\n",
              "      <th>id</th>\n",
              "      <th>name</th>\n",
              "      <th>number_of_seasons</th>\n",
              "      <th>number_of_episodes</th>\n",
              "      <th>original_language</th>\n",
              "      <th>vote_count</th>\n",
              "      <th>vote_average</th>\n",
              "      <th>overview</th>\n",
              "      <th>adult</th>\n",
              "      <th>backdrop_path</th>\n",
              "      <th>...</th>\n",
              "      <th>tagline</th>\n",
              "      <th>genres</th>\n",
              "      <th>created_by</th>\n",
              "      <th>languages</th>\n",
              "      <th>networks</th>\n",
              "      <th>origin_country</th>\n",
              "      <th>spoken_languages</th>\n",
              "      <th>production_companies</th>\n",
              "      <th>production_countries</th>\n",
              "      <th>episode_run_time</th>\n",
              "    </tr>\n",
              "  </thead>\n",
              "  <tbody>\n",
              "    <tr>\n",
              "      <th>0</th>\n",
              "      <td>1399</td>\n",
              "      <td>Game of Thrones</td>\n",
              "      <td>8</td>\n",
              "      <td>73</td>\n",
              "      <td>en</td>\n",
              "      <td>21857</td>\n",
              "      <td>8.442</td>\n",
              "      <td>Seven noble families fight for control of the ...</td>\n",
              "      <td>False</td>\n",
              "      <td>/2OMB0ynKlyIenMJWI2Dy9IWT4c.jpg</td>\n",
              "      <td>...</td>\n",
              "      <td>Winter Is Coming</td>\n",
              "      <td>Sci-Fi &amp; Fantasy, Drama, Action &amp; Adventure</td>\n",
              "      <td>David Benioff, D.B. Weiss</td>\n",
              "      <td>en</td>\n",
              "      <td>HBO</td>\n",
              "      <td>US</td>\n",
              "      <td>English</td>\n",
              "      <td>Revolution Sun Studios, Television 360, Genera...</td>\n",
              "      <td>United Kingdom, United States of America</td>\n",
              "      <td>0</td>\n",
              "    </tr>\n",
              "    <tr>\n",
              "      <th>1</th>\n",
              "      <td>71446</td>\n",
              "      <td>Money Heist</td>\n",
              "      <td>3</td>\n",
              "      <td>41</td>\n",
              "      <td>es</td>\n",
              "      <td>17836</td>\n",
              "      <td>8.257</td>\n",
              "      <td>To carry out the biggest heist in history, a m...</td>\n",
              "      <td>False</td>\n",
              "      <td>/gFZriCkpJYsApPZEF3jhxL4yLzG.jpg</td>\n",
              "      <td>...</td>\n",
              "      <td>The perfect robbery.</td>\n",
              "      <td>Crime, Drama</td>\n",
              "      <td>Álex Pina</td>\n",
              "      <td>es</td>\n",
              "      <td>Netflix, Antena 3</td>\n",
              "      <td>ES</td>\n",
              "      <td>Español</td>\n",
              "      <td>Vancouver Media</td>\n",
              "      <td>Spain</td>\n",
              "      <td>70</td>\n",
              "    </tr>\n",
              "    <tr>\n",
              "      <th>2</th>\n",
              "      <td>66732</td>\n",
              "      <td>Stranger Things</td>\n",
              "      <td>4</td>\n",
              "      <td>34</td>\n",
              "      <td>en</td>\n",
              "      <td>16161</td>\n",
              "      <td>8.624</td>\n",
              "      <td>When a young boy vanishes, a small town uncove...</td>\n",
              "      <td>False</td>\n",
              "      <td>/2MaumbgBlW1NoPo3ZJO38A6v7OS.jpg</td>\n",
              "      <td>...</td>\n",
              "      <td>Every ending has a beginning.</td>\n",
              "      <td>Drama, Sci-Fi &amp; Fantasy, Mystery</td>\n",
              "      <td>Matt Duffer, Ross Duffer</td>\n",
              "      <td>en</td>\n",
              "      <td>Netflix</td>\n",
              "      <td>US</td>\n",
              "      <td>English</td>\n",
              "      <td>21 Laps Entertainment, Monkey Massacre Product...</td>\n",
              "      <td>United States of America</td>\n",
              "      <td>0</td>\n",
              "    </tr>\n",
              "    <tr>\n",
              "      <th>3</th>\n",
              "      <td>1402</td>\n",
              "      <td>The Walking Dead</td>\n",
              "      <td>11</td>\n",
              "      <td>177</td>\n",
              "      <td>en</td>\n",
              "      <td>15432</td>\n",
              "      <td>8.121</td>\n",
              "      <td>Sheriff's deputy Rick Grimes awakens from a co...</td>\n",
              "      <td>False</td>\n",
              "      <td>/x4salpjB11umlUOltfNvSSrjSXm.jpg</td>\n",
              "      <td>...</td>\n",
              "      <td>Fight the dead. Fear the living.</td>\n",
              "      <td>Action &amp; Adventure, Drama, Sci-Fi &amp; Fantasy</td>\n",
              "      <td>Frank Darabont</td>\n",
              "      <td>en</td>\n",
              "      <td>AMC</td>\n",
              "      <td>US</td>\n",
              "      <td>English</td>\n",
              "      <td>AMC Studios, Circle of Confusion, Valhalla Mot...</td>\n",
              "      <td>United States of America</td>\n",
              "      <td>42</td>\n",
              "    </tr>\n",
              "    <tr>\n",
              "      <th>4</th>\n",
              "      <td>63174</td>\n",
              "      <td>Lucifer</td>\n",
              "      <td>6</td>\n",
              "      <td>93</td>\n",
              "      <td>en</td>\n",
              "      <td>13870</td>\n",
              "      <td>8.486</td>\n",
              "      <td>Bored and unhappy as the Lord of Hell, Lucifer...</td>\n",
              "      <td>False</td>\n",
              "      <td>/aDBRtunw49UF4XmqfyNuD9nlYIu.jpg</td>\n",
              "      <td>...</td>\n",
              "      <td>It's good to be bad.</td>\n",
              "      <td>Crime, Sci-Fi &amp; Fantasy</td>\n",
              "      <td>Tom Kapinos</td>\n",
              "      <td>en</td>\n",
              "      <td>FOX, Netflix</td>\n",
              "      <td>US</td>\n",
              "      <td>English</td>\n",
              "      <td>Warner Bros. Television, DC Entertainment, Jer...</td>\n",
              "      <td>United States of America</td>\n",
              "      <td>45</td>\n",
              "    </tr>\n",
              "  </tbody>\n",
              "</table>\n",
              "<p>5 rows × 29 columns</p>\n",
              "</div>"
            ],
            "text/plain": [
              "      id              name  number_of_seasons  number_of_episodes  \\\n",
              "0   1399   Game of Thrones                  8                  73   \n",
              "1  71446       Money Heist                  3                  41   \n",
              "2  66732   Stranger Things                  4                  34   \n",
              "3   1402  The Walking Dead                 11                 177   \n",
              "4  63174           Lucifer                  6                  93   \n",
              "\n",
              "  original_language  vote_count  vote_average  \\\n",
              "0                en       21857         8.442   \n",
              "1                es       17836         8.257   \n",
              "2                en       16161         8.624   \n",
              "3                en       15432         8.121   \n",
              "4                en       13870         8.486   \n",
              "\n",
              "                                            overview  adult  \\\n",
              "0  Seven noble families fight for control of the ...  False   \n",
              "1  To carry out the biggest heist in history, a m...  False   \n",
              "2  When a young boy vanishes, a small town uncove...  False   \n",
              "3  Sheriff's deputy Rick Grimes awakens from a co...  False   \n",
              "4  Bored and unhappy as the Lord of Hell, Lucifer...  False   \n",
              "\n",
              "                      backdrop_path  ...                           tagline  \\\n",
              "0   /2OMB0ynKlyIenMJWI2Dy9IWT4c.jpg  ...                  Winter Is Coming   \n",
              "1  /gFZriCkpJYsApPZEF3jhxL4yLzG.jpg  ...              The perfect robbery.   \n",
              "2  /2MaumbgBlW1NoPo3ZJO38A6v7OS.jpg  ...     Every ending has a beginning.   \n",
              "3  /x4salpjB11umlUOltfNvSSrjSXm.jpg  ...  Fight the dead. Fear the living.   \n",
              "4  /aDBRtunw49UF4XmqfyNuD9nlYIu.jpg  ...              It's good to be bad.   \n",
              "\n",
              "                                        genres                 created_by  \\\n",
              "0  Sci-Fi & Fantasy, Drama, Action & Adventure  David Benioff, D.B. Weiss   \n",
              "1                                 Crime, Drama                  Álex Pina   \n",
              "2             Drama, Sci-Fi & Fantasy, Mystery   Matt Duffer, Ross Duffer   \n",
              "3  Action & Adventure, Drama, Sci-Fi & Fantasy             Frank Darabont   \n",
              "4                      Crime, Sci-Fi & Fantasy                Tom Kapinos   \n",
              "\n",
              "   languages           networks  origin_country spoken_languages  \\\n",
              "0         en                HBO              US          English   \n",
              "1         es  Netflix, Antena 3              ES          Español   \n",
              "2         en            Netflix              US          English   \n",
              "3         en                AMC              US          English   \n",
              "4         en       FOX, Netflix              US          English   \n",
              "\n",
              "                                production_companies  \\\n",
              "0  Revolution Sun Studios, Television 360, Genera...   \n",
              "1                                    Vancouver Media   \n",
              "2  21 Laps Entertainment, Monkey Massacre Product...   \n",
              "3  AMC Studios, Circle of Confusion, Valhalla Mot...   \n",
              "4  Warner Bros. Television, DC Entertainment, Jer...   \n",
              "\n",
              "                       production_countries episode_run_time  \n",
              "0  United Kingdom, United States of America                0  \n",
              "1                                     Spain               70  \n",
              "2                  United States of America                0  \n",
              "3                  United States of America               42  \n",
              "4                  United States of America               45  \n",
              "\n",
              "[5 rows x 29 columns]"
            ]
          },
          "execution_count": 3,
          "metadata": {},
          "output_type": "execute_result"
        }
      ],
      "source": [
        "tmdb = pd.read_csv('TMDB_tv_dataset_v3.csv')\n",
        "tmdb.head()"
      ]
    },
    {
      "cell_type": "code",
      "execution_count": 4,
      "metadata": {
        "colab": {
          "base_uri": "https://localhost:8080/"
        },
        "id": "eXOJPyU09Ck4",
        "outputId": "592b910f-567e-4219-f8f0-51517e38e1f3"
      },
      "outputs": [
        {
          "data": {
            "text/plain": [
              "(168639, 29)"
            ]
          },
          "execution_count": 4,
          "metadata": {},
          "output_type": "execute_result"
        }
      ],
      "source": [
        "tmdb.shape"
      ]
    },
    {
      "cell_type": "code",
      "execution_count": 5,
      "metadata": {
        "colab": {
          "base_uri": "https://localhost:8080/"
        },
        "id": "M8S2dR4H9Ew8",
        "outputId": "08fa54ec-29eb-4d08-ff4f-173e832c7aa8"
      },
      "outputs": [
        {
          "data": {
            "text/plain": [
              "Index(['id', 'name', 'number_of_seasons', 'number_of_episodes',\n",
              "       'original_language', 'vote_count', 'vote_average', 'overview', 'adult',\n",
              "       'backdrop_path', 'first_air_date', 'last_air_date', 'homepage',\n",
              "       'in_production', 'original_name', 'popularity', 'poster_path', 'type',\n",
              "       'status', 'tagline', 'genres', 'created_by', 'languages', 'networks',\n",
              "       'origin_country', 'spoken_languages', 'production_companies',\n",
              "       'production_countries', 'episode_run_time'],\n",
              "      dtype='object')"
            ]
          },
          "execution_count": 5,
          "metadata": {},
          "output_type": "execute_result"
        }
      ],
      "source": [
        "tmdb.columns"
      ]
    },
    {
      "cell_type": "code",
      "execution_count": 6,
      "metadata": {
        "colab": {
          "base_uri": "https://localhost:8080/",
          "height": 993
        },
        "id": "Wg6C5InVkbAr",
        "outputId": "aafa86c1-9954-4ebb-f3d1-2f28b7a43fef"
      },
      "outputs": [
        {
          "data": {
            "text/plain": [
              "id                      0.000000\n",
              "name                    0.000030\n",
              "number_of_seasons       0.000000\n",
              "number_of_episodes      0.000000\n",
              "original_language       0.000000\n",
              "vote_count              0.000000\n",
              "vote_average            0.000000\n",
              "overview                0.446552\n",
              "adult                   0.000000\n",
              "backdrop_path           0.538778\n",
              "first_air_date          0.188189\n",
              "last_air_date           0.177326\n",
              "homepage                0.697591\n",
              "in_production           0.000000\n",
              "original_name           0.000030\n",
              "popularity              0.000000\n",
              "poster_path             0.355208\n",
              "type                    0.000000\n",
              "status                  0.000000\n",
              "tagline                 0.968394\n",
              "genres                  0.408719\n",
              "created_by              0.783585\n",
              "languages               0.347423\n",
              "networks                0.421314\n",
              "origin_country          0.184003\n",
              "spoken_languages        0.351989\n",
              "production_companies    0.648112\n",
              "production_countries    0.540373\n",
              "episode_run_time        0.000000\n",
              "dtype: float64"
            ]
          },
          "execution_count": 6,
          "metadata": {},
          "output_type": "execute_result"
        }
      ],
      "source": [
        "tmdb.isnull().mean()"
      ]
    },
    {
      "cell_type": "code",
      "execution_count": 7,
      "metadata": {
        "colab": {
          "base_uri": "https://localhost:8080/",
          "height": 335
        },
        "id": "zvOvRomT4JfU",
        "outputId": "4b5c5c8e-3bb0-448c-9852-9be34b95e61e"
      },
      "outputs": [
        {
          "data": {
            "text/html": [
              "<div>\n",
              "<style scoped>\n",
              "    .dataframe tbody tr th:only-of-type {\n",
              "        vertical-align: middle;\n",
              "    }\n",
              "\n",
              "    .dataframe tbody tr th {\n",
              "        vertical-align: top;\n",
              "    }\n",
              "\n",
              "    .dataframe thead th {\n",
              "        text-align: right;\n",
              "    }\n",
              "</style>\n",
              "<table border=\"1\" class=\"dataframe\">\n",
              "  <thead>\n",
              "    <tr style=\"text-align: right;\">\n",
              "      <th></th>\n",
              "      <th>id</th>\n",
              "      <th>name</th>\n",
              "      <th>number_of_seasons</th>\n",
              "      <th>number_of_episodes</th>\n",
              "      <th>original_language</th>\n",
              "      <th>vote_count</th>\n",
              "      <th>vote_average</th>\n",
              "      <th>overview</th>\n",
              "      <th>adult</th>\n",
              "      <th>first_air_date</th>\n",
              "      <th>...</th>\n",
              "      <th>type</th>\n",
              "      <th>status</th>\n",
              "      <th>genres</th>\n",
              "      <th>languages</th>\n",
              "      <th>networks</th>\n",
              "      <th>origin_country</th>\n",
              "      <th>spoken_languages</th>\n",
              "      <th>production_companies</th>\n",
              "      <th>production_countries</th>\n",
              "      <th>episode_run_time</th>\n",
              "    </tr>\n",
              "  </thead>\n",
              "  <tbody>\n",
              "    <tr>\n",
              "      <th>0</th>\n",
              "      <td>1399</td>\n",
              "      <td>Game of Thrones</td>\n",
              "      <td>8</td>\n",
              "      <td>73</td>\n",
              "      <td>en</td>\n",
              "      <td>21857</td>\n",
              "      <td>8.442</td>\n",
              "      <td>Seven noble families fight for control of the ...</td>\n",
              "      <td>False</td>\n",
              "      <td>2011-04-17</td>\n",
              "      <td>...</td>\n",
              "      <td>Scripted</td>\n",
              "      <td>Ended</td>\n",
              "      <td>Sci-Fi &amp; Fantasy, Drama, Action &amp; Adventure</td>\n",
              "      <td>en</td>\n",
              "      <td>HBO</td>\n",
              "      <td>US</td>\n",
              "      <td>English</td>\n",
              "      <td>Revolution Sun Studios, Television 360, Genera...</td>\n",
              "      <td>United Kingdom, United States of America</td>\n",
              "      <td>0</td>\n",
              "    </tr>\n",
              "    <tr>\n",
              "      <th>1</th>\n",
              "      <td>71446</td>\n",
              "      <td>Money Heist</td>\n",
              "      <td>3</td>\n",
              "      <td>41</td>\n",
              "      <td>es</td>\n",
              "      <td>17836</td>\n",
              "      <td>8.257</td>\n",
              "      <td>To carry out the biggest heist in history, a m...</td>\n",
              "      <td>False</td>\n",
              "      <td>2017-05-02</td>\n",
              "      <td>...</td>\n",
              "      <td>Scripted</td>\n",
              "      <td>Ended</td>\n",
              "      <td>Crime, Drama</td>\n",
              "      <td>es</td>\n",
              "      <td>Netflix, Antena 3</td>\n",
              "      <td>ES</td>\n",
              "      <td>Español</td>\n",
              "      <td>Vancouver Media</td>\n",
              "      <td>Spain</td>\n",
              "      <td>70</td>\n",
              "    </tr>\n",
              "  </tbody>\n",
              "</table>\n",
              "<p>2 rows × 24 columns</p>\n",
              "</div>"
            ],
            "text/plain": [
              "      id             name  number_of_seasons  number_of_episodes  \\\n",
              "0   1399  Game of Thrones                  8                  73   \n",
              "1  71446      Money Heist                  3                  41   \n",
              "\n",
              "  original_language  vote_count  vote_average  \\\n",
              "0                en       21857         8.442   \n",
              "1                es       17836         8.257   \n",
              "\n",
              "                                            overview  adult first_air_date  \\\n",
              "0  Seven noble families fight for control of the ...  False     2011-04-17   \n",
              "1  To carry out the biggest heist in history, a m...  False     2017-05-02   \n",
              "\n",
              "   ...      type  status                                       genres  \\\n",
              "0  ...  Scripted   Ended  Sci-Fi & Fantasy, Drama, Action & Adventure   \n",
              "1  ...  Scripted   Ended                                 Crime, Drama   \n",
              "\n",
              "   languages           networks origin_country spoken_languages  \\\n",
              "0         en                HBO             US          English   \n",
              "1         es  Netflix, Antena 3             ES          Español   \n",
              "\n",
              "                                production_companies  \\\n",
              "0  Revolution Sun Studios, Television 360, Genera...   \n",
              "1                                    Vancouver Media   \n",
              "\n",
              "                       production_countries episode_run_time  \n",
              "0  United Kingdom, United States of America                0  \n",
              "1                                     Spain               70  \n",
              "\n",
              "[2 rows x 24 columns]"
            ]
          },
          "execution_count": 7,
          "metadata": {},
          "output_type": "execute_result"
        }
      ],
      "source": [
        "tmdb.drop(columns = ['tagline',\n",
        "                     'created_by',\n",
        "                     'backdrop_path',\n",
        "                     'poster_path',\n",
        "                     'homepage'], axis = 1, inplace = True)\n",
        "tmdb.head(2)"
      ]
    },
    {
      "cell_type": "code",
      "execution_count": 8,
      "metadata": {
        "colab": {
          "base_uri": "https://localhost:8080/",
          "height": 836
        },
        "id": "W4r7TySE_K8D",
        "outputId": "b1f96c12-de2f-4b7e-cf98-80d48a87b692"
      },
      "outputs": [
        {
          "data": {
            "text/plain": [
              "id                      0.000000\n",
              "name                    0.000030\n",
              "number_of_seasons       0.000000\n",
              "number_of_episodes      0.000000\n",
              "original_language       0.000000\n",
              "vote_count              0.000000\n",
              "vote_average            0.000000\n",
              "overview                0.446552\n",
              "adult                   0.000000\n",
              "first_air_date          0.188189\n",
              "last_air_date           0.177326\n",
              "in_production           0.000000\n",
              "original_name           0.000030\n",
              "popularity              0.000000\n",
              "type                    0.000000\n",
              "status                  0.000000\n",
              "genres                  0.408719\n",
              "languages               0.347423\n",
              "networks                0.421314\n",
              "origin_country          0.184003\n",
              "spoken_languages        0.351989\n",
              "production_companies    0.648112\n",
              "production_countries    0.540373\n",
              "episode_run_time        0.000000\n",
              "dtype: float64"
            ]
          },
          "execution_count": 8,
          "metadata": {},
          "output_type": "execute_result"
        }
      ],
      "source": [
        "tmdb.isnull().mean()"
      ]
    },
    {
      "cell_type": "code",
      "execution_count": 9,
      "metadata": {
        "colab": {
          "base_uri": "https://localhost:8080/"
        },
        "id": "1cgcwIDv_a1m",
        "outputId": "b38a95ef-8149-404e-927a-a30860c5a05b"
      },
      "outputs": [
        {
          "name": "stdout",
          "output_type": "stream",
          "text": [
            "(26821, 24)\n",
            "<class 'pandas.core.frame.DataFrame'>\n",
            "Index: 26821 entries, 0 to 168619\n",
            "Data columns (total 24 columns):\n",
            " #   Column                Non-Null Count  Dtype  \n",
            "---  ------                --------------  -----  \n",
            " 0   id                    26821 non-null  int64  \n",
            " 1   name                  26821 non-null  object \n",
            " 2   number_of_seasons     26821 non-null  int64  \n",
            " 3   number_of_episodes    26821 non-null  int64  \n",
            " 4   original_language     26821 non-null  object \n",
            " 5   vote_count            26821 non-null  int64  \n",
            " 6   vote_average          26821 non-null  float64\n",
            " 7   overview              26821 non-null  object \n",
            " 8   adult                 26821 non-null  bool   \n",
            " 9   first_air_date        26821 non-null  object \n",
            " 10  last_air_date         26821 non-null  object \n",
            " 11  in_production         26821 non-null  bool   \n",
            " 12  original_name         26821 non-null  object \n",
            " 13  popularity            26821 non-null  float64\n",
            " 14  type                  26821 non-null  object \n",
            " 15  status                26821 non-null  object \n",
            " 16  genres                26821 non-null  object \n",
            " 17  languages             26821 non-null  object \n",
            " 18  networks              26821 non-null  object \n",
            " 19  origin_country        26821 non-null  object \n",
            " 20  spoken_languages      26821 non-null  object \n",
            " 21  production_companies  26821 non-null  object \n",
            " 22  production_countries  26821 non-null  object \n",
            " 23  episode_run_time      26821 non-null  int64  \n",
            "dtypes: bool(2), float64(2), int64(5), object(15)\n",
            "memory usage: 4.8+ MB\n"
          ]
        }
      ],
      "source": [
        "# dropping rows of production_companies\n",
        "tmdb.dropna(inplace = True)\n",
        "print(tmdb.shape)\n",
        "tmdb.info()"
      ]
    },
    {
      "cell_type": "code",
      "execution_count": 10,
      "metadata": {
        "id": "X3_Fo0ciAeWa"
      },
      "outputs": [],
      "source": [
        "from sklearn.feature_extraction.text import TfidfVectorizer\n",
        "from sklearn.metrics.pairwise import linear_kernel\n",
        "\n",
        "# Create a new DataFrame with only the relevant columns\n",
        "df = tmdb[['id', 'name', 'overview']]\n",
        "\n",
        "# Fill any missing values in the 'overview' column with an empty string\n",
        "df['overview'] = df['overview'].fillna('')\n",
        "\n",
        "# Create a TF-IDF vectorizer to convert the overviews into numerical representations\n",
        "tfidf = TfidfVectorizer(stop_words='english')\n",
        "\n",
        "# Fit and transform the overviews\n",
        "tfidf_matrix = tfidf.fit_transform(df['overview'])\n",
        "\n",
        "# Compute the cosine similarity between all pairs of TV shows based on their overviews\n",
        "cosine_sim = linear_kernel(tfidf_matrix, tfidf_matrix)\n",
        "\n",
        "# Create a reverse map of indices and TV show titles\n",
        "indices = pd.Series(df.index, index=df['name']).drop_duplicates()\n",
        "\n",
        "def get_recommendations(title, cosine_sim=cosine_sim):\n",
        "    \"\"\"\n",
        "    Get content-based recommendations for a given TV show title.\n",
        "\n",
        "    Args:\n",
        "      title: The title of the TV show.\n",
        "      cosine_sim: The cosine similarity matrix.\n",
        "\n",
        "    Returns:\n",
        "      A list of recommended TV show names.\n",
        "    \"\"\"\n",
        "\n",
        "    # Get the index of the TV show that matches the title\n",
        "    idx = indices[title]\n",
        "\n",
        "    # Get the pairwise similarity scores of all TV shows with that TV show\n",
        "    sim_scores = list(enumerate(cosine_sim[idx]))\n",
        "\n",
        "    # Sort the TV shows based on the similarity scores\n",
        "    sim_scores = sorted(sim_scores, key=lambda x: x[1], reverse=True)\n",
        "\n",
        "    # Get the scores of the 10 most similar TV shows\n",
        "    sim_scores = sim_scores[1:11]\n",
        "\n",
        "    # Get the TV show indices\n",
        "    tv_show_indices = [i[0] for i in sim_scores]\n",
        "\n",
        "    # Return the top 10 most similar TV shows\n",
        "    return df['name'].iloc[tv_show_indices]"
      ]
    },
    {
      "cell_type": "code",
      "execution_count": 11,
      "metadata": {
        "colab": {
          "base_uri": "https://localhost:8080/"
        },
        "id": "QLpET2Z4BJ3h",
        "outputId": "5efaeefc-7a11-4219-d4b8-40fc5d1599ee"
      },
      "outputs": [
        {
          "name": "stdout",
          "output_type": "stream",
          "text": [
            "716                Money Heist: Korea - Joint Economic Area\n",
            "2303                      Money Heist: From Tokyo to Berlin\n",
            "38771                                          Astey Ladies\n",
            "9963                                           Leopard Skin\n",
            "5093                                           Super Crooks\n",
            "40106                                            Paper Port\n",
            "131878                                       Hit in 50 days\n",
            "99775     Special Forces: Ultimate Hell Week - The Profe...\n",
            "2773                                            Riot Police\n",
            "22229                                   The Ravages of Time\n",
            "Name: name, dtype: object\n"
          ]
        }
      ],
      "source": [
        "# Example: Get recommendations for a TV show named \"The 100\"\n",
        "recommendations = get_recommendations('Money Heist')\n",
        "print(recommendations)"
      ]
    },
    {
      "cell_type": "code",
      "execution_count": 12,
      "metadata": {
        "id": "b_9SbooFBZjs"
      },
      "outputs": [],
      "source": [
        "from sklearn.metrics.pairwise import cosine_similarity\n",
        "from sklearn.preprocessing import MinMaxScaler\n",
        "\n",
        "# Select relevant columns for collaborative filtering\n",
        "df_cf = tmdb[['name', 'vote_average', 'popularity']]\n",
        "\n",
        "# Create a pivot table with users (if available) and TV shows\n",
        "# If no user data is available, consider using 'vote_average' or 'popularity' as a proxy for user ratings\n",
        "# Assuming 'vote_average' is a user rating proxy\n",
        "pivot_table = df_cf.pivot_table(index='name', values='vote_average')\n",
        "\n",
        "# Fill NaN values with the mean vote average\n",
        "pivot_table.fillna(pivot_table.mean(), inplace=True)\n",
        "\n",
        "# Calculate cosine similarity between TV shows based on user ratings (or proxy ratings)\n",
        "cosine_sim_cf = cosine_similarity(pivot_table)\n",
        "\n",
        "# Create a reverse map of indices and TV show titles\n",
        "# Instead of using the TV show name as both index and value, use the numerical index\n",
        "indices_cf = pd.Series(pivot_table.index)\n",
        "# Create a dictionary to map TV show names to their numerical indices\n",
        "title_to_index = {title: index for index, title in enumerate(pivot_table.index)}"
      ]
    },
    {
      "cell_type": "code",
      "execution_count": 14,
      "metadata": {
        "id": "MOrJxZThEIBz"
      },
      "outputs": [],
      "source": [
        "def get_collaborative_recommendations(title, cosine_sim=cosine_sim_cf):\n",
        "    \"\"\"\n",
        "    Get collaborative filtering recommendations for a given TV show title.\n",
        "    Args:\n",
        "      title: The title of the TV show.\n",
        "      cosine_sim: The cosine similarity matrix.\n",
        "    Returns:\n",
        "      A list of recommended TV show names.\n",
        "    \"\"\"\n",
        "    if title not in title_to_index:\n",
        "        print(f\"TV show '{title}' not found in the dataset.\")\n",
        "        return []\n",
        "\n",
        "    idx = title_to_index[title]\n",
        "    sim_scores = sorted(list(enumerate(cosine_sim[idx])), key=lambda x: x[1], reverse=True)[1:11]\n",
        "    tv_show_indices = [i[0] for i in sim_scores]\n",
        "    recommendations = pivot_table.index[tv_show_indices]\n",
        "\n",
        "    def process_title(show):\n",
        "        # Remove '#' symbol\n",
        "        show = show.replace('#', '')\n",
        "\n",
        "        # Split the title into words\n",
        "        words = show.split()\n",
        "\n",
        "        # Process each word\n",
        "        processed_words = []\n",
        "        for word in words:\n",
        "            # Check for camel case (e.g., CasaDoCais)\n",
        "            if word and word[0].isupper() and any(c.islower() for c in word[1:]):\n",
        "                # Split camel case into separate words\n",
        "                split_words = ''.join([' '+char if char.isupper() and i>0 else char for i, char in enumerate(word)]).split()\n",
        "                processed_words.extend(split_words)\n",
        "            else:\n",
        "                processed_words.append(word)\n",
        "\n",
        "        # Capitalize each word and join\n",
        "        return ' '.join(word.capitalize() for word in processed_words)\n",
        "\n",
        "    processed_recommendations = [process_title(show) for show in recommendations]\n",
        "\n",
        "    return processed_recommendations"
      ]
    },
    {
      "cell_type": "code",
      "execution_count": 16,
      "metadata": {
        "colab": {
          "base_uri": "https://localhost:8080/"
        },
        "id": "MPm-qm2TBmuR",
        "outputId": "2e91d246-83d4-4246-89a8-a6c75ceabaef"
      },
      "outputs": [
        {
          "data": {
            "text/plain": [
              "['Bring Back Alice',\n",
              " 'Casa Do Cais',\n",
              " 'Cyber Sleuths: The Idaho Murders',\n",
              " 'Free Rayshawn',\n",
              " 'Luimelia',\n",
              " 'No Filter',\n",
              " 'Sitting At Home',\n",
              " 'Bemyfamily',\n",
              " 'Blackaf',\n",
              " 'Martyisdead']"
            ]
          },
          "execution_count": 16,
          "metadata": {},
          "output_type": "execute_result"
        }
      ],
      "source": [
        "# Example: Get collaborative recommendations for a TV show named \"The 100\"\n",
        "collaborative_recommendations = get_collaborative_recommendations('Money Heist')\n",
        "collaborative_recommendations"
      ]
    },
    {
      "cell_type": "code",
      "execution_count": 15,
      "metadata": {
        "id": "yTKMfZSMGjd9"
      },
      "outputs": [],
      "source": [
        "def get_hybrid_recommendations(title, content_weight=0.5):\n",
        "  \"\"\"\n",
        "  Get hybrid recommendations using content-based and collaborative filtering.\n",
        "\n",
        "  Args:\n",
        "    title: The title of the TV show.\n",
        "    content_weight: The weight assigned to content-based recommendations (0-1).\n",
        "\n",
        "  Returns:\n",
        "    A list of recommended TV show names.\n",
        "  \"\"\"\n",
        "\n",
        "  content_recs = get_recommendations(title).tolist()\n",
        "  collaborative_recs = get_collaborative_recommendations(title)\n",
        "\n",
        "  # Combine recommendations based on weights\n",
        "  hybrid_recs = []\n",
        "  for i in range(min(len(content_recs), len(collaborative_recs))):\n",
        "    if content_recs[i] not in hybrid_recs:\n",
        "      hybrid_recs.append(content_recs[i])\n",
        "\n",
        "    if collaborative_recs[i] not in hybrid_recs:\n",
        "      hybrid_recs.append(collaborative_recs[i])\n",
        "\n",
        "  return hybrid_recs[:10] # Return top 10 recommendations"
      ]
    },
    {
      "cell_type": "code",
      "execution_count": 16,
      "metadata": {
        "colab": {
          "base_uri": "https://localhost:8080/"
        },
        "id": "2eVOFPAWnpVI",
        "outputId": "994d4246-bec1-4e3b-8c5d-2d69f5cf9fd1"
      },
      "outputs": [
        {
          "data": {
            "text/plain": [
              "['Money Heist: Korea - Joint Economic Area',\n",
              " 'Bring Back Alice',\n",
              " 'Money Heist: From Tokyo to Berlin',\n",
              " 'Casa Do Cais',\n",
              " 'Astey Ladies',\n",
              " 'Cyber Sleuths: The Idaho Murders',\n",
              " 'Leopard Skin',\n",
              " 'Free Rayshawn',\n",
              " 'Super Crooks',\n",
              " 'Luimelia']"
            ]
          },
          "execution_count": 16,
          "metadata": {},
          "output_type": "execute_result"
        }
      ],
      "source": [
        "# Example: Get hybrid recommendations for a TV show named \"The 100\"\n",
        "hybrid_recommendations = get_hybrid_recommendations('Money Heist')\n",
        "hybrid_recommendations"
      ]
    },
    {
      "cell_type": "code",
      "execution_count": 19,
      "metadata": {},
      "outputs": [],
      "source": [
        "import joblib\n",
        "\n",
        "# Save the hybrid recommendation system data to a joblib file\n",
        "with open('tmbd_recom_sys.joblib', 'wb') as file:\n",
        "    joblib.dump((tmdb, cosine_sim), file)"
      ]
    }
  ],
  "metadata": {
    "colab": {
      "provenance": []
    },
    "kernelspec": {
      "display_name": "Python 3",
      "name": "python3"
    },
    "language_info": {
      "codemirror_mode": {
        "name": "ipython",
        "version": 3
      },
      "file_extension": ".py",
      "mimetype": "text/x-python",
      "name": "python",
      "nbconvert_exporter": "python",
      "pygments_lexer": "ipython3",
      "version": "3.12.3"
    }
  },
  "nbformat": 4,
  "nbformat_minor": 0
}
